{
 "cells": [
  {
   "cell_type": "markdown",
   "metadata": {},
   "source": [
    "## first model\n",
    "\n",
    "This is the first try (after the proof of concept) to create a model which is capable of detecting all three classes correctly."
   ]
  },
  {
   "cell_type": "code",
   "execution_count": 1,
   "metadata": {},
   "outputs": [
    {
     "data": {
      "text/plain": [
       "['..\\\\data\\\\processed\\\\train\\\\n',\n",
       " '..\\\\data\\\\processed\\\\validation\\\\n',\n",
       " '..\\\\data\\\\processed\\\\test\\\\n',\n",
       " '..\\\\data\\\\processed\\\\train\\\\o',\n",
       " '..\\\\data\\\\processed\\\\validation\\\\o',\n",
       " '..\\\\data\\\\processed\\\\test\\\\o',\n",
       " '..\\\\data\\\\processed\\\\train\\\\x',\n",
       " '..\\\\data\\\\processed\\\\validation\\\\x',\n",
       " '..\\\\data\\\\processed\\\\test\\\\x']"
      ]
     },
     "execution_count": 1,
     "metadata": {},
     "output_type": "execute_result"
    }
   ],
   "source": [
    "import sys\n",
    "from os.path import join\n",
    "\n",
    "sys.path.append('..')\n",
    "\n",
    "raw = join('..', 'data', 'raw')\n",
    "interim = join('..', 'data', 'interim')\n",
    "processed = join('..', 'data', 'processed')\n",
    "\n",
    "from src.training_env import reset_and_populate\n",
    "\n",
    "reset_and_populate(raw, processed, [300,100,100])"
   ]
  },
  {
   "cell_type": "code",
   "execution_count": 2,
   "metadata": {},
   "outputs": [
    {
     "name": "stdout",
     "output_type": "stream",
     "text": [
      "Found 900 images belonging to 3 classes.\n",
      "Found 300 images belonging to 3 classes.\n"
     ]
    }
   ],
   "source": [
    "from tensorflow.keras.preprocessing.image import ImageDataGenerator\n",
    "\n",
    "train_datagen = ImageDataGenerator(rescale=1./255)\n",
    "test_datagen = ImageDataGenerator(rescale=1./255)\n",
    "\n",
    "train_dir = join(processed, 'train')\n",
    "validation_dir = join(processed, 'validation')\n",
    "\n",
    "train_generator = train_datagen.flow_from_directory(\n",
    "    train_dir,\n",
    "    target_size=(32, 32),\n",
    "    batch_size=20,\n",
    "    class_mode='binary',\n",
    "    save_to_dir=interim)\n",
    "\n",
    "validation_generator = test_datagen.flow_from_directory(\n",
    "    validation_dir,\n",
    "    target_size=(32, 32),\n",
    "    batch_size=20,\n",
    "    class_mode='binary')"
   ]
  },
  {
   "cell_type": "code",
   "execution_count": 3,
   "metadata": {},
   "outputs": [
    {
     "name": "stdout",
     "output_type": "stream",
     "text": [
      "Model: \"sequential\"\n",
      "_________________________________________________________________\n",
      "Layer (type)                 Output Shape              Param #   \n",
      "=================================================================\n",
      "dense (Dense)                (None, 32, 32, 64)        256       \n",
      "_________________________________________________________________\n",
      "dense_1 (Dense)              (None, 32, 32, 32)        2080      \n",
      "_________________________________________________________________\n",
      "dense_2 (Dense)              (None, 32, 32, 16)        528       \n",
      "_________________________________________________________________\n",
      "flatten (Flatten)            (None, 16384)             0         \n",
      "_________________________________________________________________\n",
      "dense_3 (Dense)              (None, 3)                 49155     \n",
      "=================================================================\n",
      "Total params: 52,019\n",
      "Trainable params: 52,019\n",
      "Non-trainable params: 0\n",
      "_________________________________________________________________\n"
     ]
    }
   ],
   "source": [
    "from tensorflow.keras import layers\n",
    "from tensorflow.keras import models\n",
    "\n",
    "model = models.Sequential()\n",
    "model.add(layers.Dense(64, 'relu', input_shape=(32, 32, 3)))\n",
    "model.add(layers.Dense(32, 'relu'))\n",
    "model.add(layers.Dense(16,'relu'))\n",
    "model.add(layers.Flatten())\n",
    "model.add(layers.Dense(3, 'softmax'))\n",
    "\n",
    "model.summary()"
   ]
  },
  {
   "cell_type": "code",
   "execution_count": 4,
   "metadata": {},
   "outputs": [],
   "source": [
    "from tensorflow.keras.optimizers import SGD, RMSprop\n",
    "\n",
    "sgd = SGD(lr=0.001, decay=1e-6, momentum=0.9, nesterov=True)\n",
    "\n",
    "model.compile(loss='sparse_categorical_crossentropy', optimizer=sgd, metrics=['acc'])"
   ]
  },
  {
   "cell_type": "code",
   "execution_count": 5,
   "metadata": {},
   "outputs": [
    {
     "name": "stdout",
     "output_type": "stream",
     "text": [
      "Epoch 1/10\n",
      "WARNING:tensorflow:From c:\\users\\me\\devel\\deepmech\\env\\lib\\site-packages\\tensorflow_core\\python\\ops\\math_grad.py:1394: where (from tensorflow.python.ops.array_ops) is deprecated and will be removed in a future version.\n",
      "Instructions for updating:\n",
      "Use tf.where in 2.0, which has the same broadcast rule as np.where\n",
      "100/100 [==============================] - 14s 137ms/step - loss: 1.0958 - acc: 0.3835 - val_loss: 1.0877 - val_acc: 0.3580\n",
      "Epoch 2/10\n",
      "100/100 [==============================] - 12s 123ms/step - loss: 1.0564 - acc: 0.4925 - val_loss: 1.0430 - val_acc: 0.5300\n",
      "Epoch 3/10\n",
      "100/100 [==============================] - 12s 125ms/step - loss: 0.9778 - acc: 0.6050 - val_loss: 0.9451 - val_acc: 0.6080\n",
      "Epoch 4/10\n",
      "100/100 [==============================] - 12s 121ms/step - loss: 0.8457 - acc: 0.6740 - val_loss: 0.8245 - val_acc: 0.6690\n",
      "Epoch 5/10\n",
      "100/100 [==============================] - 13s 129ms/step - loss: 0.6675 - acc: 0.7745 - val_loss: 0.7039 - val_acc: 0.7030\n",
      "Epoch 6/10\n",
      "100/100 [==============================] - 13s 130ms/step - loss: 0.5176 - acc: 0.8330 - val_loss: 0.6797 - val_acc: 0.7080\n",
      "Epoch 7/10\n",
      "100/100 [==============================] - 12s 122ms/step - loss: 0.4302 - acc: 0.8560 - val_loss: 0.5662 - val_acc: 0.7690\n",
      "Epoch 8/10\n",
      "100/100 [==============================] - 12s 123ms/step - loss: 0.3553 - acc: 0.8800 - val_loss: 0.5771 - val_acc: 0.7510\n",
      "Epoch 9/10\n",
      "100/100 [==============================] - 13s 127ms/step - loss: 0.3056 - acc: 0.9010 - val_loss: 0.5931 - val_acc: 0.7780\n",
      "Epoch 10/10\n",
      "100/100 [==============================] - 12s 123ms/step - loss: 0.2686 - acc: 0.9120 - val_loss: 0.6528 - val_acc: 0.7340\n"
     ]
    }
   ],
   "source": [
    "from tensorflow.keras.callbacks import TensorBoard\n",
    "import numpy as np\n",
    "\n",
    "log_dir = join('..', 'logs')\n",
    "\n",
    "from src.training_env import reset\n",
    "reset(log_dir)\n",
    "\n",
    "callbacks = [ TensorBoard(\n",
    "    log_dir=log_dir,\n",
    "    histogram_freq=1,\n",
    "    embeddings_freq=1) ]\n",
    "\n",
    "history = model.fit_generator(\n",
    "    train_generator,\n",
    "    steps_per_epoch=100,\n",
    "    epochs=10,\n",
    "    validation_data=validation_generator,\n",
    "    validation_steps=50,\n",
    "    callbacks=callbacks)"
   ]
  },
  {
   "cell_type": "code",
   "execution_count": 6,
   "metadata": {},
   "outputs": [
    {
     "data": {
      "text/plain": [
       "Reusing TensorBoard on port 6006 (pid 5052), started 1 day, 6:26:33 ago. (Use '!kill 5052' to kill it.)"
      ]
     },
     "metadata": {},
     "output_type": "display_data"
    },
    {
     "data": {
      "text/html": [
       "\n",
       "      <iframe id=\"tensorboard-frame-20266f224697255c\" width=\"100%\" height=\"800\" frameborder=\"0\">\n",
       "      </iframe>\n",
       "      <script>\n",
       "        (function() {\n",
       "          const frame = document.getElementById(\"tensorboard-frame-20266f224697255c\");\n",
       "          const url = new URL(\"/\", window.location);\n",
       "          url.port = 6006;\n",
       "          frame.src = url;\n",
       "        })();\n",
       "      </script>\n",
       "  "
      ],
      "text/plain": [
       "<IPython.core.display.HTML object>"
      ]
     },
     "metadata": {},
     "output_type": "display_data"
    }
   ],
   "source": [
    "%load_ext tensorboard\n",
    "%tensorboard --logdir {log_dir}"
   ]
  }
 ],
 "metadata": {
  "kernelspec": {
   "display_name": "Python 3",
   "language": "python",
   "name": "python3"
  },
  "language_info": {
   "codemirror_mode": {
    "name": "ipython",
    "version": 3
   },
   "file_extension": ".py",
   "mimetype": "text/x-python",
   "name": "python",
   "nbconvert_exporter": "python",
   "pygments_lexer": "ipython3",
   "version": "3.7.4"
  }
 },
 "nbformat": 4,
 "nbformat_minor": 2
}
