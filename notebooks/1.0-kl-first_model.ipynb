{
 "cells": [
  {
   "cell_type": "markdown",
   "metadata": {},
   "source": [
    "## first model\n",
    "\n",
    "This is the first try (after the proof of concept) to create a model which is capable of detecting all three classes correctly."
   ]
  },
  {
   "cell_type": "code",
   "execution_count": 1,
   "metadata": {},
   "outputs": [
    {
     "data": {
      "text/plain": [
       "['..\\\\data\\\\processed\\\\train\\\\n',\n",
       " '..\\\\data\\\\processed\\\\validation\\\\n',\n",
       " '..\\\\data\\\\processed\\\\test\\\\n',\n",
       " '..\\\\data\\\\processed\\\\train\\\\o',\n",
       " '..\\\\data\\\\processed\\\\validation\\\\o',\n",
       " '..\\\\data\\\\processed\\\\test\\\\o',\n",
       " '..\\\\data\\\\processed\\\\train\\\\x',\n",
       " '..\\\\data\\\\processed\\\\validation\\\\x',\n",
       " '..\\\\data\\\\processed\\\\test\\\\x']"
      ]
     },
     "execution_count": 1,
     "metadata": {},
     "output_type": "execute_result"
    }
   ],
   "source": [
    "import sys\n",
    "from os.path import join\n",
    "\n",
    "sys.path.append('..')\n",
    "\n",
    "raw = join('..', 'data', 'raw')\n",
    "interim = join('..', 'data', 'interim')\n",
    "processed = join('..', 'data', 'processed')\n",
    "\n",
    "from src.training_env import reset_and_populate\n",
    "\n",
    "reset_and_populate(raw, processed, [300,100,100])"
   ]
  },
  {
   "cell_type": "code",
   "execution_count": 2,
   "metadata": {},
   "outputs": [
    {
     "name": "stdout",
     "output_type": "stream",
     "text": [
      "Found 900 images belonging to 3 classes.\n",
      "Found 300 images belonging to 3 classes.\n",
      "Found 300 images belonging to 3 classes.\n"
     ]
    }
   ],
   "source": [
    "from tensorflow.keras.preprocessing.image import ImageDataGenerator\n",
    "\n",
    "train_datagen = ImageDataGenerator(rescale=1./255)\n",
    "validation_datagen = ImageDataGenerator(rescale=1./255)\n",
    "test_datagen = ImageDataGenerator(rescale=1./255)\n",
    "\n",
    "train_dir = join(processed, 'train')\n",
    "validation_dir = join(processed, 'validation')\n",
    "test_dir = join(processed, 'test')\n",
    "\n",
    "train_generator = train_datagen.flow_from_directory(\n",
    "    train_dir,\n",
    "    target_size=(32, 32),\n",
    "    batch_size=20,\n",
    "    class_mode='binary')\n",
    "\n",
    "validation_generator = validation_datagen.flow_from_directory(\n",
    "    validation_dir,\n",
    "    target_size=(32, 32),\n",
    "    batch_size=20,\n",
    "    class_mode='binary')\n",
    "\n",
    "test_generator = test_datagen.flow_from_directory(\n",
    "    test_dir,\n",
    "    target_size=(32, 32),\n",
    "    batch_size=20,\n",
    "    class_mode='binary')"
   ]
  },
  {
   "cell_type": "code",
   "execution_count": 3,
   "metadata": {
    "scrolled": false
   },
   "outputs": [
    {
     "name": "stdout",
     "output_type": "stream",
     "text": [
      "Model: \"sequential\"\n",
      "_________________________________________________________________\n",
      "Layer (type)                 Output Shape              Param #   \n",
      "=================================================================\n",
      "flatten (Flatten)            (None, 3072)              0         \n",
      "_________________________________________________________________\n",
      "dense (Dense)                (None, 32)                98336     \n",
      "_________________________________________________________________\n",
      "dense_1 (Dense)              (None, 16)                528       \n",
      "_________________________________________________________________\n",
      "dense_2 (Dense)              (None, 3)                 51        \n",
      "=================================================================\n",
      "Total params: 98,915\n",
      "Trainable params: 98,915\n",
      "Non-trainable params: 0\n",
      "_________________________________________________________________\n"
     ]
    }
   ],
   "source": [
    "from tensorflow.keras import layers\n",
    "from tensorflow.keras import models\n",
    "\n",
    "model = models.Sequential()\n",
    "model.add(layers.Flatten(input_shape=(32, 32, 3)))\n",
    "model.add(layers.Dense(32, 'relu'))\n",
    "model.add(layers.Dense(16,'relu'))\n",
    "model.add(layers.Dense(3, 'softmax'))\n",
    "\n",
    "model.summary()"
   ]
  },
  {
   "cell_type": "code",
   "execution_count": 4,
   "metadata": {},
   "outputs": [],
   "source": [
    "from tensorflow.keras.optimizers import SGD, RMSprop\n",
    "\n",
    "sgd = SGD(lr=0.01, decay=1e-5, momentum=0.9, nesterov=False)\n",
    "\n",
    "model.compile(loss='sparse_categorical_crossentropy', optimizer=sgd, metrics=['acc'])"
   ]
  },
  {
   "cell_type": "code",
   "execution_count": 5,
   "metadata": {
    "scrolled": true
   },
   "outputs": [
    {
     "name": "stdout",
     "output_type": "stream",
     "text": [
      "Epoch 1/10\n",
      "WARNING:tensorflow:From c:\\users\\me\\devel\\deepmech\\env\\lib\\site-packages\\tensorflow_core\\python\\ops\\math_grad.py:1394: where (from tensorflow.python.ops.array_ops) is deprecated and will be removed in a future version.\n",
      "Instructions for updating:\n",
      "Use tf.where in 2.0, which has the same broadcast rule as np.where\n",
      "100/100 [==============================] - 8s 75ms/step - loss: 1.0849 - acc: 0.4090 - val_loss: 0.9956 - val_acc: 0.5130\n",
      "Epoch 2/10\n",
      "100/100 [==============================] - 6s 62ms/step - loss: 0.9722 - acc: 0.5090 - val_loss: 0.7917 - val_acc: 0.7320\n",
      "Epoch 3/10\n",
      "100/100 [==============================] - 6s 60ms/step - loss: 0.5901 - acc: 0.7885 - val_loss: 0.6705 - val_acc: 0.7280\n",
      "Epoch 4/10\n",
      "100/100 [==============================] - 6s 64ms/step - loss: 0.5015 - acc: 0.8180 - val_loss: 0.4647 - val_acc: 0.8820\n",
      "Epoch 5/10\n",
      "100/100 [==============================] - 7s 67ms/step - loss: 0.4947 - acc: 0.8150 - val_loss: 0.4112 - val_acc: 0.8520\n",
      "Epoch 6/10\n",
      "100/100 [==============================] - 6s 64ms/step - loss: 0.3845 - acc: 0.8660 - val_loss: 0.9084 - val_acc: 0.7510\n",
      "Epoch 7/10\n",
      "100/100 [==============================] - 7s 67ms/step - loss: 0.5238 - acc: 0.8210 - val_loss: 0.4833 - val_acc: 0.8390\n",
      "Epoch 8/10\n",
      "100/100 [==============================] - 6s 61ms/step - loss: 0.2863 - acc: 0.9150 - val_loss: 0.5904 - val_acc: 0.7840\n",
      "Epoch 9/10\n",
      "100/100 [==============================] - 7s 66ms/step - loss: 0.4324 - acc: 0.8395 - val_loss: 0.6255 - val_acc: 0.7700\n",
      "Epoch 10/10\n",
      "100/100 [==============================] - 6s 63ms/step - loss: 0.4134 - acc: 0.8545 - val_loss: 1.5680 - val_acc: 0.5400\n"
     ]
    }
   ],
   "source": [
    "from tensorflow.keras.callbacks import TensorBoard\n",
    "import numpy as np\n",
    "\n",
    "log_dir = join('..', 'logs')\n",
    "\n",
    "from src.training_env import reset\n",
    "reset(log_dir)\n",
    "\n",
    "callbacks = [ TensorBoard(\n",
    "    log_dir=log_dir,\n",
    "    histogram_freq=1,\n",
    "    embeddings_freq=1) ]\n",
    "\n",
    "history = model.fit_generator(\n",
    "    train_generator,\n",
    "    steps_per_epoch=100,\n",
    "    epochs=10,\n",
    "    validation_data=validation_generator,\n",
    "    validation_steps=50,\n",
    "    callbacks=callbacks)"
   ]
  },
  {
   "cell_type": "code",
   "execution_count": 6,
   "metadata": {},
   "outputs": [
    {
     "data": {
      "text/plain": [
       "[1.8445007085800171, 0.52666664]"
      ]
     },
     "execution_count": 6,
     "metadata": {},
     "output_type": "execute_result"
    }
   ],
   "source": [
    "model.evaluate_generator(test_generator)"
   ]
  },
  {
   "cell_type": "code",
   "execution_count": 7,
   "metadata": {},
   "outputs": [
    {
     "data": {
      "text/plain": [
       "Reusing TensorBoard on port 6006 (pid 16284), started 1 day, 21:12:17 ago. (Use '!kill 16284' to kill it.)"
      ]
     },
     "metadata": {},
     "output_type": "display_data"
    },
    {
     "data": {
      "text/html": [
       "\n",
       "      <iframe id=\"tensorboard-frame-358430e563e961f\" width=\"100%\" height=\"800\" frameborder=\"0\">\n",
       "      </iframe>\n",
       "      <script>\n",
       "        (function() {\n",
       "          const frame = document.getElementById(\"tensorboard-frame-358430e563e961f\");\n",
       "          const url = new URL(\"/\", window.location);\n",
       "          url.port = 6006;\n",
       "          frame.src = url;\n",
       "        })();\n",
       "      </script>\n",
       "  "
      ],
      "text/plain": [
       "<IPython.core.display.HTML object>"
      ]
     },
     "metadata": {},
     "output_type": "display_data"
    }
   ],
   "source": [
    "%load_ext tensorboard\n",
    "%tensorboard --logdir {log_dir}"
   ]
  }
 ],
 "metadata": {
  "kernelspec": {
   "display_name": "Python 3",
   "language": "python",
   "name": "python3"
  },
  "language_info": {
   "codemirror_mode": {
    "name": "ipython",
    "version": 3
   },
   "file_extension": ".py",
   "mimetype": "text/x-python",
   "name": "python",
   "nbconvert_exporter": "python",
   "pygments_lexer": "ipython3",
   "version": "3.7.4"
  }
 },
 "nbformat": 4,
 "nbformat_minor": 2
}
