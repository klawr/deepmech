{
 "nbformat": 4,
 "nbformat_minor": 2,
 "metadata": {
  "language_info": {
   "name": "python",
   "codemirror_mode": {
    "name": "ipython",
    "version": 3
   },
   "version": "3.7.4"
  },
  "orig_nbformat": 2,
  "file_extension": ".py",
  "mimetype": "text/x-python",
  "name": "python",
  "npconvert_exporter": "python",
  "pygments_lexer": "ipython3",
  "version": 3
 },
 "cells": [
  {
   "cell_type": "code",
   "execution_count": 4,
   "metadata": {},
   "outputs": [
    {
     "name": "stdout",
     "output_type": "stream",
     "text": "[0.026712066430482084, 0.9934375]\n[0.0784420772548765, 0.98625]\n[0.15946074941544794, 0.9528125]\n"
    }
   ],
   "source": [
    "import tensorflow as tf\n",
    "from os.path import join\n",
    "from src.image_handling import decode_record\n",
    "\n",
    "features = {\n",
    "    'image': tf.io.FixedLenFeature([], tf.string),\n",
    "    'label': tf.io.FixedLenFeature([], tf.int64),\n",
    "}\n",
    "shape = (32, 32, 1)\n",
    "processed = join('data', 'processed')\n",
    "\n",
    "training_dataset = decode_record(join(processed, 'train.tfrecord'), features, shape)\n",
    "validation_dataset = decode_record(join(processed, 'validation.tfrecord'), features, shape)\n",
    "test_dataset = decode_record(join(processed, 'test.tfrecord'), features, shape)\n",
    "\n",
    "model_path = join('models', 'symbol_classifier', 'symbol_classifier.h5')\n",
    "model = tf.keras.models.load_model(model_path)\n",
    "\n",
    "print(model.evaluate(training_dataset, steps=100, verbose=0))\n",
    "print(model.evaluate(validation_dataset, steps=100, verbose=0))\n",
    "print(model.evaluate(test_dataset, steps=100, verbose=0))"
   ]
  }
 ]
}