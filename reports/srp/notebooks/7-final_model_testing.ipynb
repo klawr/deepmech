{
 "nbformat": 4,
 "nbformat_minor": 2,
 "metadata": {
  "language_info": {
   "name": "python",
   "codemirror_mode": {
    "name": "ipython",
    "version": 3
   },
   "version": "3.7.6-final"
  },
  "orig_nbformat": 2,
  "file_extension": ".py",
  "mimetype": "text/x-python",
  "name": "python",
  "npconvert_exporter": "python",
  "pygments_lexer": "ipython3",
  "version": 3,
  "kernelspec": {
   "name": "python3",
   "display_name": "Python 3"
  }
 },
 "cells": [
  {
   "cell_type": "code",
   "execution_count": 1,
   "metadata": {},
   "outputs": [
    {
     "name": "stdout",
     "output_type": "stream",
     "text": "[0.026712066430482084, 0.9934375]\n[0.0784420772548765, 0.98625]\n[0.15946074941544794, 0.9528125]\n"
    }
   ],
   "source": [
    "from os import path\n",
    "\n",
    "import tensorflow as tf\n",
    "\n",
    "from src.utils import decode_image_record\n",
    "\n",
    "processed = path.join('data', 'processed')\n",
    "\n",
    "features = {\n",
    "    'image': tf.io.FixedLenFeature([], tf.string),\n",
    "    'label': tf.io.FixedLenFeature([2], tf.int64)\n",
    "}\n",
    "shape = (32, 32, 1)\n",
    "\n",
    "def decoder(example):\n",
    "    feature = tf.io.parse_single_example(example, features)\n",
    "    image = tf.io.parse_tensor(feature['image'], tf.float32)\n",
    "    image.set_shape(shape)\n",
    "    # We only want the 'label_idx'. Not the 'angle'.\n",
    "    label = feature['label'][0]\n",
    "\n",
    "    return [image, label]\n",
    "\n",
    "\n",
    "train_dataset = decode_image_record(path.join(processed, 'train.tfrecord'), decoder)\n",
    "validation_dataset = decode_image_record(path.join(processed, 'validate.tfrecord'), decoder)\n",
    "test_dataset = decode_image_record(path.join(processed, 'test.tfrecord'), decoder)\n",
    "\n",
    "model_path = path.join('models', 'symbol_classifier','model.h5')\n",
    "model = tf.keras.models.load_model(model_path)\n",
    "\n",
    "print(model.evaluate(train_dataset, steps=100, verbose=0))\n",
    "print(model.evaluate(validation_dataset, steps=100, verbose=0))\n",
    "print(model.evaluate(test_dataset, steps=100, verbose=0))"
   ]
  }
 ]
}