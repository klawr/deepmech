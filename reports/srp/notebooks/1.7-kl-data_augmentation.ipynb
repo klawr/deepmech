{
 "nbformat": 4,
 "nbformat_minor": 2,
 "metadata": {
  "language_info": {
   "name": "python",
   "codemirror_mode": {
    "name": "ipython",
    "version": 3
   },
   "version": "3.7.4"
  },
  "orig_nbformat": 2,
  "file_extension": ".py",
  "mimetype": "text/x-python",
  "name": "python",
  "npconvert_exporter": "python",
  "pygments_lexer": "ipython3",
  "version": 3
 },
 "cells": [
  {
   "cell_type": "code",
   "execution_count": 1,
   "metadata": {},
   "outputs": [],
   "source": [
    "from os.path import join\n",
    "\n",
    "from src.image_handling import inline_augment_images, encode_record\n",
    "from src.training_env import reset, reset_and_populate\n",
    "\n",
    "raw=join('data', 'raw')\n",
    "interim=join('data', 'interim')\n",
    "processed=join('data', 'processed')\n",
    "\n",
    "reset_and_populate(raw, interim, [300, 100, 100])\n",
    "reset(processed)\n",
    "\n",
    "target_size=(32, 32)\n",
    "\n",
    "train = inline_augment_images(join(interim, 'train'),\n",
    "    repetitions=5, h_flip=True, v_flip=True, rotation_range=360, target_size=target_size)\n",
    "\n",
    "validation = inline_augment_images(join(interim, 'validation'), target_size=target_size)\n",
    "\n",
    "test = inline_augment_images(join(interim, 'test'), target_size=target_size)"
   ]
  },
  {
   "cell_type": "code",
   "execution_count": 2,
   "metadata": {},
   "outputs": [],
   "source": [
    "from os import listdir\n",
    "\n",
    "labels = listdir(raw)\n",
    "\n",
    "encode_record(train, labels, processed, 'train')\n",
    "encode_record(validation, labels, processed, 'validation')\n",
    "encode_record(test, labels, processed, 'test')"
   ]
  }
 ]
}