{
 "nbformat": 4,
 "nbformat_minor": 2,
 "metadata": {
  "language_info": {
   "name": "python",
   "codemirror_mode": {
    "name": "ipython",
    "version": 3
   },
   "version": "3.7.6-final"
  },
  "orig_nbformat": 2,
  "file_extension": ".py",
  "mimetype": "text/x-python",
  "name": "python",
  "npconvert_exporter": "python",
  "pygments_lexer": "ipython3",
  "version": 3,
  "kernelspec": {
   "name": "python3",
   "display_name": "Python 3"
  }
 },
 "cells": [
  {
   "cell_type": "markdown",
   "metadata": {},
   "source": [
    "## Fully Connected Convolutional Neural Network\n",
    "\n",
    "In this notebook the previously used model is transformed in a Fully Fully Connected Convolutional Neural Network (FCN).\n",
    "\n",
    "At first, the model is loaded and summarized to confirm correct procedure."
   ]
  },
  {
   "cell_type": "code",
   "execution_count": 1,
   "metadata": {},
   "outputs": [
    {
     "output_type": "stream",
     "name": "stdout",
     "text": "Model: \"sequential\"\n_________________________________________________________________\nLayer (type)                 Output Shape              Param #   \n=================================================================\nconv2d (Conv2D)              (None, 32, 32, 16)        272       \n_________________________________________________________________\nmax_pooling2d (MaxPooling2D) (None, 16, 16, 16)        0         \n_________________________________________________________________\nconv2d_1 (Conv2D)            (None, 16, 16, 32)        8224      \n_________________________________________________________________\nmax_pooling2d_1 (MaxPooling2 (None, 8, 8, 32)          0         \n_________________________________________________________________\nflatten (Flatten)            (None, 2048)              0         \n_________________________________________________________________\ndense (Dense)                (None, 3)                 6147      \n=================================================================\nTotal params: 14,643\nTrainable params: 14,643\nNon-trainable params: 0\n_________________________________________________________________\n"
    }
   ],
   "source": [
    "from os import path\n",
    "\n",
    "import tensorflow as tf\n",
    "\n",
    "model_path = path.join('models', 'symbol_classifier','model.h5')\n",
    "old_model = tf.keras.models.load_model(model_path)\n",
    "\n",
    "old_model.summary()"
   ]
  },
  {
   "cell_type": "markdown",
   "metadata": {},
   "source": [
    "### Conversion into a FCN\n",
    "\n",
    "Now the model is restructured into a FCN by adding an `input layer` which accepts a 2d input of arbitrary size.\n",
    "\n",
    "The model is transformed using the [functional API](https://keras.io/getting-started/functional-api-guide/), where each layer is considered to be a function which is called by providing the previous layer as input.\n",
    "\n",
    "The flatten layer was used to map the `Conv2D` layer onto the `Dense` output layer.\n",
    "By transforming the output layer into a `Conv2D` layer with 3 filters (for 3 different classes),\n",
    "we get the same result as by just scanning the model.\n",
    "\n",
    "For this the input dimensions of the flattened layer (which is practically the \"output shape\" of the last `Conv2D` layer of the model) are used to determine the connections between the last `Conv2D` layer and the new output layer by reshaping the weights of the former output layer (please note that biases do not need a reshape).\n",
    "\n",
    "Using the determined shape and weights a new `tf.keras.layers.Conv2D` layer is created."
   ]
  },
  {
   "cell_type": "code",
   "execution_count": 2,
   "metadata": {},
   "outputs": [
    {
     "output_type": "stream",
     "name": "stdout",
     "text": "Model: \"model\"\n_________________________________________________________________\nLayer (type)                 Output Shape              Param #   \n=================================================================\ninput_1 (InputLayer)         [(None, None, None, 1)]   0         \n_________________________________________________________________\nconv2d (Conv2D)              multiple                  272       \n_________________________________________________________________\nmax_pooling2d (MaxPooling2D) multiple                  0         \n_________________________________________________________________\nconv2d_1 (Conv2D)            multiple                  8224      \n_________________________________________________________________\nmax_pooling2d_1 (MaxPooling2 multiple                  0         \n_________________________________________________________________\ndense (Conv2D)               (None, None, None, 3)     6147      \n=================================================================\nTotal params: 14,643\nTrainable params: 14,643\nNon-trainable params: 0\n_________________________________________________________________\n"
    }
   ],
   "source": [
    "inputs = tf.keras.Input(shape=(None, None, 1))\n",
    "\n",
    "hidden = old_model.layers[0](inputs)\n",
    "\n",
    "for layer in old_model.layers[1:4]:\n",
    "    hidden = layer(hidden)\n",
    "\n",
    "# Get the input dimensions of the flattened layer:\n",
    "f_dim = old_model.layers[4].input_shape\n",
    "# And use it to convert the next dense layer:\n",
    "dense = old_model.layers[5]\n",
    "out_dim = dense.get_weights()[1].shape[0]\n",
    "W, b = dense.get_weights()\n",
    "new_W = W.reshape((f_dim[1], f_dim[2], f_dim[3], out_dim))\n",
    "outputs = tf.keras.layers.Conv2D(out_dim,\n",
    "                           (f_dim[1], f_dim[2]),\n",
    "                           name = dense.name,\n",
    "                           strides = (1, 1),\n",
    "                           activation = dense.activation,\n",
    "                           padding = 'valid',\n",
    "                           weights = [new_W, b])(hidden)\n",
    "\n",
    "model = tf.keras.Model(inputs = inputs, outputs = outputs)\n",
    "\n",
    "model.summary()"
   ]
  },
  {
   "cell_type": "markdown",
   "metadata": {},
   "source": [
    "### Loading the image\n",
    "\n",
    "As before the same image is loaded using `cv2`.\n",
    "The first advantage of FCN is that the image does not have to be cropped before being fed into the model."
   ]
  },
  {
   "cell_type": "code",
   "execution_count": 3,
   "metadata": {},
   "outputs": [
    {
     "output_type": "display_data",
     "data": {
      "text/plain": "<Figure size 432x288 with 1 Axes>",
      "image/svg+xml": "<?xml version=\"1.0\" encoding=\"utf-8\" standalone=\"no\"?>\r\n<!DOCTYPE svg PUBLIC \"-//W3C//DTD SVG 1.1//EN\"\r\n  \"http://www.w3.org/Graphics/SVG/1.1/DTD/svg11.dtd\">\r\n<!-- Created with matplotlib (https://matplotlib.org/) -->\r\n<svg height=\"231.84pt\" version=\"1.1\" viewBox=\"0 0 231.84 231.84\" width=\"231.84pt\" xmlns=\"http://www.w3.org/2000/svg\" xmlns:xlink=\"http://www.w3.org/1999/xlink\">\r\n <defs>\r\n  <style type=\"text/css\">\r\n*{stroke-linecap:butt;stroke-linejoin:round;}\r\n  </style>\r\n </defs>\r\n <g id=\"figure_1\">\r\n  <g id=\"patch_1\">\r\n   <path d=\"M 0 231.84 \r\nL 231.84 231.84 \r\nL 231.84 0 \r\nL 0 0 \r\nz\r\n\" style=\"fill:none;\"/>\r\n  </g>\r\n  <g id=\"axes_1\">\r\n   <g clip-path=\"url(#p5d149fa746)\">\r\n    <image height=\"218\" id=\"imaged8d4bc6319\" transform=\"scale(1 -1)translate(0 -218)\" width=\"218\" x=\"7.2\" xlink:href=\"data:image/png;base64,\r\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\" y=\"-6.64\"/>\r\n   </g>\r\n  </g>\r\n </g>\r\n <defs>\r\n  <clipPath id=\"p5d149fa746\">\r\n   <rect height=\"217.44\" width=\"217.44\" x=\"7.2\" y=\"7.2\"/>\r\n  </clipPath>\r\n </defs>\r\n</svg>\r\n",
      "image/png": "[encoded data removed]"
     },
     "metadata": {
      "needs_background": "light"
     }
    }
   ],
   "source": [
    "import cv2\n",
    "from matplotlib import pyplot as plt\n",
    "\n",
    "image_path = path.join('reports', 'sep', 'images', 'node_localization.png')\n",
    "image = cv2.imread(image_path, cv2.IMREAD_GRAYSCALE)\n",
    "\n",
    "plt.axis('off')\n",
    "plt.set_cmap('gray')\n",
    "plt.imshow(image)\n",
    "plt.show()"
   ]
  },
  {
   "cell_type": "markdown",
   "metadata": {},
   "source": [
    "## Taking the time\n",
    "\n",
    "Since no further adjustments to the input data have to be done (except expanding the dimensions to match the expected input size), the time can be stopped.\n",
    "\n",
    "The resulting `predictions` are in a different format, since they come directly in `[batch_idx, x, y, pred]`."
   ]
  },
  {
   "cell_type": "code",
   "execution_count": 4,
   "metadata": {},
   "outputs": [
    {
     "output_type": "stream",
     "name": "stdout",
     "text": "Finished after 0.16 seconds.\n\nShape of prediction: (1, 83, 83, 3)\n\nFirst 5 predictions:\n[[0.95092016 0.01089852 0.03818127]\n [0.95484823 0.00888007 0.03627167]\n [0.95484823 0.00888007 0.03627167]\n [0.95484823 0.00888007 0.03627167]\n [0.95484823 0.00888007 0.03627167]]\n"
    }
   ],
   "source": [
    "from time import time\n",
    "\n",
    "image_exp = tf.expand_dims(tf.expand_dims(image, axis=-1), axis=0)\n",
    "image_exp = tf.cast(image_exp / 255, tf.float32)\n",
    "\n",
    "start = time()\n",
    "predictions = model.predict(image_exp)\n",
    "duration = time() - start\n",
    "\n",
    "print(\"Finished after %.2f seconds.\" % duration)\n",
    "print(\"\\nShape of prediction:\", predictions.shape)\n",
    "print(\"\\nFirst 5 predictions:\")\n",
    "print(predictions[0][0][:5])"
   ]
  },
  {
   "cell_type": "markdown",
   "metadata": {},
   "source": [
    "## Showing the results\n",
    "\n",
    "Another advantage of having everything in the same model and using the functional API is to be able is to be able to use `tf.keras.Lambda` layers.\n",
    "\n",
    "`Lambda` layers enable the possibility to implement functions as layers, which is useful if we want to include the drawing of bounding boxes into the model.\n",
    "\n",
    "The resulting model can be extended like this:"
   ]
  },
  {
   "cell_type": "code",
   "execution_count": 5,
   "metadata": {},
   "outputs": [
    {
     "output_type": "display_data",
     "data": {
      "text/plain": "<Figure size 432x288 with 1 Axes>",
      "image/svg+xml": "<?xml version=\"1.0\" encoding=\"utf-8\" standalone=\"no\"?>\r\n<!DOCTYPE svg PUBLIC \"-//W3C//DTD SVG 1.1//EN\"\r\n  \"http://www.w3.org/Graphics/SVG/1.1/DTD/svg11.dtd\">\r\n<!-- Created with matplotlib (https://matplotlib.org/) -->\r\n<svg height=\"231.84pt\" version=\"1.1\" viewBox=\"0 0 231.84 231.84\" width=\"231.84pt\" xmlns=\"http://www.w3.org/2000/svg\" xmlns:xlink=\"http://www.w3.org/1999/xlink\">\r\n <defs>\r\n  <style type=\"text/css\">\r\n*{stroke-linecap:butt;stroke-linejoin:round;}\r\n  </style>\r\n </defs>\r\n <g id=\"figure_1\">\r\n  <g id=\"patch_1\">\r\n   <path d=\"M 0 231.84 \r\nL 231.84 231.84 \r\nL 231.84 0 \r\nL 0 0 \r\nz\r\n\" style=\"fill:none;\"/>\r\n  </g>\r\n  <g id=\"axes_1\">\r\n   <g clip-path=\"url(#p46cae29248)\">\r\n    <image height=\"218\" id=\"imageb3e5569dfa\" transform=\"scale(1 -1)translate(0 -218)\" width=\"218\" x=\"7.2\" xlink:href=\"data:image/png;base64,\r\niVBORw0KGgoAAAANSUhEUgAAANoAAADaCAYAAADAHVzbAAAABHNCSVQICAgIfAhkiAAAEghJREFUeJztnWtsFFXcxv9Li10QylKslJutFciiXAoYrUaxCVEqhKSJCrwSFRIwBP2wiX6oMUK9BOSNUAlIXy+xQAJtohRvCYjgkiKpqAGqyGIJFArSSqHb0qZdaOnzfig77mWWbuvsmb08v+RJd86cc+Y/ow/nzJkzZywiAiGERJQBZgdASCJAoxGiABqNEAXQaIQogEYjRAE0GiEKoNEIUQCNRogCaDRCFECjEaIAGo0QBdBohCiARiNEATQaIQqg0QhRAI1GiAJoNEIUQKMRooBkswNIKIxeNMJicH0kYtBoqqE5EhJ2HaOI7du3y8qVK+XXX38VAEEqLCw0O0TyHwClSAhOy8nJQVNTE8Jl586dKC4uNv9cqD7JcusHUQFE6zqmpaXJsGHD5OTJk2K1WvtclcXCPmgswa6jCSxevFiuXr0qZ8+eDWmy5uZm+eqrr6S0tFTq6uqC9s+ZMyfSYRKDMb1ZTRjd6jqG4tNPP0VOTo5u2RUrVgTlN/18qL7I9AASRyGM5nK5kJeXB4vFctvygaSlpZl/TlS4Mj2AxJGO0YqKisIub7fb/cpOnTrV/HOiwhLv0Uzi559/lkmTJklRUVHYZdrb2/22s7OzDY6KRBLT3Z4w8mnRZs2a1efy+fn5fi1aZmam+edEhSW2aCZRWVnZ5zKzZ8/22w5s4Uj0wudoKoGIWEQA9Os5WM9AYw+XLl2SMWPGGBgciSRs0Uxi0aJFYee1Wq1SWlrql3b16lWjQyIRxvT+a8Lo1j1abW0tAKCqquq2Q/Q2mw1LlizRfeaWnJxs/vlQfZHpASSObhktLy9PM8yxY8d08xYUFMDtduuazO12m38uVF9legCJI59JxSUlJZpxCgsL/fLNnz9f12B8dhbTMj2AxFHA7H3vA+jff//dL91mswUZzOVyweFwmH8OVH9legCJI53XZACgrKws6J7LS3NzM8rKymCz2cyPn+q3OLyvEgjfsE5QaDRCFMDnaIQogEYjRAE0GiEKoNEIUQCNRogCaDRCFECjEaIAGo0QBdBohCiARiNEATQaIQqg0QhRAI1GiAJoNEIUQKMRogAajRAF0GiEKIBGI0QBNBohCqDRCFEAjUaIAmg0QhRAoxGiABqNEAXQaIQogEYjRAE0GiEKoNEIUYAyo+l9SeODDz4QALJ9+3YBIHv27BG73d6vugiJdpR8HwoB2+vXrwcAdHZ2wul0oqqqSvsmWG1tLQoKCsKui6JiQGoOhFt/CwoKAAA7duwImTc3NxdOpxMHDhzQ/colDI6NohRIzYHg/QvghRde0M1TVlbmt71kyRJUVFRg//79unVRVAxJzYEgPS0VANTX1+vmqa6uDkqbP38+rly5ElRXFFw4iuqL1BwIIjhz5kzIe69FixbB6XTq7mtqakJ+fr5fXVFw4SiqL1JzIEhPt1FEYLFYcMcdd/jtHzt2LD7++GPdsi+++CLKy8v96oqCC0dRfZGaA0F6jDZ+/Hg4HA5s3LgRbrcbZWVlmDt3Ls6cOYO2tjaICGbNmuVX1tvl9K0rCi4cRYUtZR+Lh4gIIDdu3JCRI0fKnDlzpLq6WvLy8uTMmTPS2toqVVVVsm/fPmlsbJTFixeLiEh3d7eUl5fLjBkzZNKkSVpdFhVBE2IQyo126tQpOXnypDzzzDPBeQC57777pL6+XjIzM6W4uFg6OjokLS1NcnNzxWq1anXRaCSWUG60rKwsOX/+fND+O++8U9ra2sRiCbaQzWYTt9ut7aPRSKyhfK5jUVGRbnpnZ2fIMmvXrpU33ngjQhEREnmUGq2mpkbOnz8vw4cPD9o3dOjQkOXy8/Pl4MGDEYyMkMijZNQFItiyZQs6OzuxZs0a/Tw+I4tePf/882hoaAiqS1XcFGWQ1BwIt/5WVlYCAJYvX67t27ZtGwCgtbVVS0tOTobH40FXVxeGDRumWxdFxZDUHAi3/ubm5qKwsBAejwcOhwN2ux0XL15ES0uLX4v2+uuvAwB++umnkHVRVAxJzYEQsP3WW29pr8VcuHABDocDhw4d0tJ27NiBgQMHhlUXRUW7lA7vhxqSX7t2rbS3t8vp06elvLxchg8fLm63u191EePwXueejoY+J0+elPvvv1/bXrp0qWzdujVkXYmMEkcjSuuibn+dHQ4HfOns7ERTUxMcDgcWLFgAm82GQEpKSvjfLEBqH1gbSKL/66gCiPRYxIfACQW3a+1880IS+7+ZsudoFoNF1OOda3o7tm/frv0GILW1tZEMKaYwvVmlolMQ8esSBu4fO3ZsULdRpOfN+MA0RMH5mCkuN0d0+eSTT7TfDQ0NunNQn332Wb9tb56tW7fKtWvXIhtgDGK626noU1dXl1+L9vnnn6OmpiaoBfNl37592mJKixYtYovmL9MDoKJQgUbrC95Flmi0f6Vs1JHEFgBELBYJHHUMl66uLklOThaRni4lJLEHsXiPRnrF4/FIY2Oj7N27V9555x157rnnJDs7W7788ku/fKdPn9Z+e01G/sX0ZpWKPt3q8wEAFi5ciGnTpgXlWbVqldY9vHLlCkaNGoVz584FdSVF2HWUKAiAikK99957mtFaWlqC3qAQEcybNy/IUF7RaP5i15Ho8sMPP2i/U1NTdd+Mv3z5clDasWPHpL29XdteunRpROKLRUx3OxV9Sk1N7fWB9WOPPabta25uhgTkLy4u1vIiCs7JZJkeABWlgvgb59ixY0F5uru7AQClpaU9ZUJ1JaPgfEyW6QFQUSqIv3Ha29uD8uzcuRMulwtWqxWDBw/W8q5YsSKoLrPPx2SZHgAVpYL3bwB6n9IaOXIknE4nAMDlcoWsK4FlegBUlAqB2z40Njbi7Nmz+Oeff9DW1qalFxYWhlVXAsr0AKgoFQK2A2fl6xFuXYkmTsEiITH6f4xEnoJFoxGiAD6wJkQBNBohCqDRCFEAjUaIAmg0QhRAoxGiABqNEAXQaIQogEYjRAE0GiEK4FJFJG6I5rmZbNFI3BDqgyhr16yR/1237tY7BD065XLJ/5WUKP2IiumvEFBUJOVyudDR0YH169ejqKhIe58OAJxOJ4qKioLKwPg4zL8QFBUJeTwedHZ2BqV/+OGHSEpKgs1mw+7du7X1UHJycrQ8MD4e8y8IRUVCDQ0NQcsuJCUlYdeuXX5pXjo6Ov5NMz4e8y8IRRmtUEsqPPDAA+jq6gpKd7lc2LJlC/bs2QOr1UqjUVQ4crvduunJyck4dOgQkpKSdPe3trbiiy++MNxoHHUkccnevXt10++44w5JTU2Vmzdv6u5vamqStrY2w+Oh0UjcYbVaQ+7r7u6Wzz77TNLT0/3yeb9WunnzZikuLo5IXKY38xRllJKTk1FRUYHGxkZcuXIF169fBwD89ttv+OWXX7Bu3TpcvHgRALBmzRrU1taiq6sLGzZsAAC0trZ6l/MyOjbzLw5FGaUBAwZg5syZmDx5MhYsWIBNmzbh8uXLsNvtSElJgd1uh8fjQXp6OkQEGRkZmDRpEkQEubm5mD17No1GUeFo2bJlyM7O9kvLz8/XRiJXr16NpKQknDhxAh999FFQXqfTSaNRVG+aO3cubDZbUHpHRwcmT56MpqamkGXdbjcefPBBGo2iwpHel29ycnJw4MAB3edoXnlXW4bB8XDUkcQlx48fl6ysrKC07OxsSUpK0i2Tl5cn06dPj1hMpv/rQ1GRUEFBgfbgesSIERDpuVcLfJhtt9vR2NjoN7kYxsdj/gWhqEjJbrdj7969qKio0NJeeeUVzXh2ux1VVVV49913/crB+FjMvxgUFWlNmTIFxcXF6OjowOHDh3Hjxg0cP34cq1at0s0Pg4/Pj1yQhCMpKSnkFCwvEGNfAKXRCNGBRiMkBuHwPiEKoNEIUQCNRogCuK4jMQ6j7/bj6KPXbNGIsYRaKNFHi/5nkRR/WNx73jjD9IeJVJwIofe9+eabqK+vRyDfffcdSkpKMHDgQPPjj6xMD4CKF4Uw2ssvvxxksED0ZtvHmUwPgIoXBRgtKSkJy5YtCzJVVVUViouLg9Lz8/PNP4fIyfQAqHhRgNGcTqdmoubmZuzevdtvf3p6Ov766y8/szmdTvPPIzIyPQAqXhRgtB07dmgG2rBhg26ZCRMmYNu2bVo+39WC40ymB0DFiwKM5uXmzZtITk6+bVlfApfxjgdxriMxDojfsHzPqgA9eNdNDFnUJ++5c+fk3nvvNTo6U+FzNBJ1ZGVlyT333GN2GIZCoxElZGRkSHJyeBOR3n//famrq4twROoxvf9KxYkC7tEmTpyITZs2afdeGzdu1C03ZMgQLY/H4zH/PCIgtmgkYtTU1Mjhw4e17aeeeko33+TJk7XfKSkpEY/LLEx3OxUnCjEzxO12+40qzp49W1vg1HdfZ2cnXn31VfPPIwLiqCMxDojuZGC73S4ul6vX4oMGDRKPx2N8XFEAu44k4pw6dUqWL19+2zzr1q2Tzs5ORRGZg+nNKhUnus3sfa9ee+017NmzBwDw559/oqSkxPy4FYhdR2IckLh8j8wI2HUkRAGGGM3hcAiAILlcLsnJyTHiEITENOF1HUN0CSwWi3R3d/davLq6WvLz86WhoYHdC5KQ/KcW7emnnw5Ku3btmnR1dfmlTZs2Terr62XmzJn/5XCExDT9Hk3y5ciRI0hNTQ3Kk5GRgT/++EPLF87IFEXFmwwbDHn44Yfl2rVrQekNDQ1SUVHhlzZx4kSjDktIzNC7IwNaoZdeegl///03AMDtdmPz5s291mGz2bQWDT0vH1FUIimMTCHenAWAnJycsA925MgRzWhlZWVmnzhFqVQYmQKMtnv37n/vufpwsKlTp2pGY6tGJZL6dY9WUFCg/U5PTw+7XEdHh4iIrF69uj+HJSRm6ZfR2tvbtd+NjY1hl5s3b56IiDzyyCPS3Nzcn0MTEpP02WgDBgyQwYMH9+tgCxcuFBGRr7/+WoYPH96vOgiJRfo1M6S9vV0GDRokIiIzZ86Uo0ePhnUwAGIRC2eGkISjX13HlStXar9//PFHsVqtvZbhnEeSyPTLaDt37pQjR46IiMiwYcPE7XZLQUGBjB492m+gxBdvt5GQRKX34UmdaVN2ux2hCMzrZdeuXZyCRSWqwsgUwhy5ubl+37zyfrDA4XCgqqoKb7/9travvLz8tnVRVJwrjEy9mKOgoAAdHR0hW7hvv/0Wo0ePDqsuiopH/af30fSw2WwyY8YMGTJkiHzzzTf/qS5C4gXDjaa0LkJiBK4ZQogCwvvqgEg47R4hJARcbo4QBbDrSIgCaDRCFECjEaIAGi2GefLJJ3UXrp0wYUKfXsglajD9qTnVNz366KNobW0NORMHAFwul+lxUv+Ko44xRm1trQwdOlRGjBjRa94pU6bIiRMnFERFwsF0t1MBCjEftLa2Vrf1CjXPtKamBlOmTDH/fChIFARABUrHaJmZmX4munDhAqxWK1JSUrQ8EyZMCDLbuXPnzD8fChIFAVCBCjDaqFGjcPToUT8D6S2/LiJBRgO4rF80iPdo0QhEm3idlpYmV69e1XZlZmZKS0uLtLS0+BVJSUmR69evS0ZGhtTX1/vts1g4i9tsOLwf5Rw8eFD7PXHiRKmrqwsymc1mE4/HIwDk7rvvVhwhCQe2aNHIrRbN9/tzN27ckJSUFN3sVqtVW5xWD7Zo5sMWLYrpub3q4YknngiZz+PxSHNzs9+itKdOnYpobKRvsEWLRnzu0bxmGzRokHg8nrCrGDdunNTV1fWrLDEetmgxQjhrZ/pSWlra77LEeGi0GGH//v1h5x0/frxMmzZN2+Z3DqID058xUAHyeY7mOxsk1LOzQDU2NmplsrKyzD8fyrhP65LI4HtvNXLkyF7zjxkzRu666y4REamurvYbUCHmwcGQaATit1KYr1luN1Q/dOhQv++Ijxs3Ti5evBiJCEkfYYsWA/jOwr906ZJMnz7db7/VahUAmsnOnz8vOTk5NFmUYXr/lQqQzqRip9Op3XfV19ejsrISIoLvv/8+aG7jQw89ZP45UH5i1zEageguMltZWSmPP/54ULrH49Hu5fiBx+iERotGQhiNxC68RyNEATQaIQpg15EQBbBFI0QBNBohCqDRCFEAjUaIAmg0QhRAoxGiABqNEAXQaIQogEYjRAE0GiEKoNEIUcD/A+Lhdfk4xdLbAAAAAElFTkSuQmCC\" y=\"-6.64\"/>\r\n   </g>\r\n  </g>\r\n </g>\r\n <defs>\r\n  <clipPath id=\"p46cae29248\">\r\n   <rect height=\"217.44\" width=\"217.44\" x=\"7.2\" y=\"7.2\"/>\r\n  </clipPath>\r\n </defs>\r\n</svg>\r\n",
      "image/png": "[encoded data removed]"
     },
     "metadata": {
      "needs_background": "light"
     }
    }
   ],
   "source": [
    "def get_bounding_boxes_nms(predictions):\n",
    "    sqz = tf.squeeze\n",
    "    max_idx = tf.math.argmax(sqz(predictions), -1)\n",
    "    node_idx = tf.where(tf.equal(max_idx, 1))\n",
    "    base_idx = tf.where(tf.equal(max_idx, 2))\n",
    "    all_idx = tf.concat([node_idx, base_idx], 0)\n",
    "\n",
    "    max_val = tf.math.reduce_max(sqz(predictions), -1)\n",
    "    \n",
    "    y, x = tf.split(all_idx * 4, 2, -1) # Times 4 to compensate model stride\n",
    "    coords = sqz(tf.stack([y, x, y + 32, x + 32], -1))\n",
    "    all_boxes = tf.cast(coords / 360, tf.float32)\n",
    "\n",
    "    scores = tf.gather_nd(max_val, all_idx)\n",
    "    eps = tf.keras.backend.epsilon()\n",
    "    nms_idx = tf.image.non_max_suppression(all_boxes, scores, 99, eps, 0.5)\n",
    "\n",
    "    limit = tf.cast(tf.math.count_nonzero(node_idx, 0)[0], tf.int32)\n",
    "    mask = tf.less(nms_idx, limit)\n",
    "    node_mask = tf.boolean_mask(nms_idx, mask)\n",
    "    base_mask = tf.boolean_mask(nms_idx,~mask)\n",
    "\n",
    "    node_boxes = tf.gather(all_boxes, node_mask)\n",
    "    base_boxes = tf.gather(all_boxes, base_mask)\n",
    "\n",
    "    return node_boxes, base_boxes\n",
    "\n",
    "boxes_outputs = tf.keras.layers.Lambda(get_bounding_boxes_nms)(outputs)\n",
    "boxes_model = tf.keras.Model(inputs = inputs, outputs = boxes_outputs)\n",
    "\n",
    "node_boxes, base_boxes = boxes_model(image_exp)\n",
    "\n",
    "image_rgb = tf.image.grayscale_to_rgb(image_exp)\n",
    "image_boxes = tf.image.draw_bounding_boxes(image_rgb, [node_boxes], [[0, 1, 0]])\n",
    "image_boxes = tf.image.draw_bounding_boxes(image_boxes, [base_boxes], [[1, 0, 0]])\n",
    "\n",
    "plt.axis('off')\n",
    "plt.set_cmap('hsv')\n",
    "plt.imshow(tf.squeeze(image_boxes))\n",
    "plt.show()"
   ]
  },
  {
   "cell_type": "markdown",
   "metadata": {},
   "source": [
    "So the result is essentially the same, as it is classifying each symbol correctly.\n",
    "The duration needed for this operation is again 10 times faster than using simple crops and feeding the to the model individually.\n",
    "\n",
    "The output is easier to handle, since it already has a 2 dimensional format and does not need any processing.\n",
    "\n",
    "At last, the models are saved to be usable later on."
   ]
  },
  {
   "cell_type": "code",
   "execution_count": 6,
   "metadata": {},
   "outputs": [],
   "source": [
    "model.save(path.join('models', 'devel','fcn_sym_det.h5'))"
   ]
  }
 ]
}